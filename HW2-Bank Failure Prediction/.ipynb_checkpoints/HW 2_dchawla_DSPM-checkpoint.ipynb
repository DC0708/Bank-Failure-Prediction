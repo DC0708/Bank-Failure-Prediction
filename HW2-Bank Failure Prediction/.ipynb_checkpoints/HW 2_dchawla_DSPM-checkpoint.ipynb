{
 "cells": [
  {
   "cell_type": "code",
   "execution_count": 1,
   "metadata": {},
   "outputs": [
    {
     "data": {
      "text/html": [
       "<div>\n",
       "<style scoped>\n",
       "    .dataframe tbody tr th:only-of-type {\n",
       "        vertical-align: middle;\n",
       "    }\n",
       "\n",
       "    .dataframe tbody tr th {\n",
       "        vertical-align: top;\n",
       "    }\n",
       "\n",
       "    .dataframe thead th {\n",
       "        text-align: right;\n",
       "    }\n",
       "</style>\n",
       "<table border=\"1\" class=\"dataframe\">\n",
       "  <thead>\n",
       "    <tr style=\"text-align: right;\">\n",
       "      <th></th>\n",
       "      <th>Bank Name</th>\n",
       "      <th>Quarter</th>\n",
       "      <th>Tier One</th>\n",
       "      <th>Texas</th>\n",
       "      <th>Size</th>\n",
       "      <th>Brokered Deposits</th>\n",
       "      <th>Net Chargeoffs</th>\n",
       "      <th>Constr and Land Dev Loans</th>\n",
       "      <th>Change in Portfolio Mix</th>\n",
       "      <th>NP CRE to Assets</th>\n",
       "      <th>Volatile Liabilities to Assets</th>\n",
       "      <th>Securities</th>\n",
       "      <th>Failed during 2010Q2</th>\n",
       "      <th>Cert Number</th>\n",
       "    </tr>\n",
       "  </thead>\n",
       "  <tbody>\n",
       "    <tr>\n",
       "      <th>0</th>\n",
       "      <td>Exchange Bank</td>\n",
       "      <td>2007Q4</td>\n",
       "      <td>14.90</td>\n",
       "      <td>19.36</td>\n",
       "      <td>32.852108</td>\n",
       "      <td>0.0</td>\n",
       "      <td>0.03</td>\n",
       "      <td>23.13</td>\n",
       "      <td>3.38</td>\n",
       "      <td>0.190681</td>\n",
       "      <td>20.16</td>\n",
       "      <td>99.07</td>\n",
       "      <td>No</td>\n",
       "      <td>160</td>\n",
       "    </tr>\n",
       "    <tr>\n",
       "      <th>1</th>\n",
       "      <td>Exchange Bank</td>\n",
       "      <td>2008Q1</td>\n",
       "      <td>14.30</td>\n",
       "      <td>20.86</td>\n",
       "      <td>33.542390</td>\n",
       "      <td>0.0</td>\n",
       "      <td>0.00</td>\n",
       "      <td>32.96</td>\n",
       "      <td>4.96</td>\n",
       "      <td>0.000000</td>\n",
       "      <td>21.23</td>\n",
       "      <td>99.45</td>\n",
       "      <td>No</td>\n",
       "      <td>160</td>\n",
       "    </tr>\n",
       "    <tr>\n",
       "      <th>2</th>\n",
       "      <td>Exchange Bank</td>\n",
       "      <td>2008Q2</td>\n",
       "      <td>14.15</td>\n",
       "      <td>20.89</td>\n",
       "      <td>34.140007</td>\n",
       "      <td>0.0</td>\n",
       "      <td>0.31</td>\n",
       "      <td>33.71</td>\n",
       "      <td>1.53</td>\n",
       "      <td>0.022408</td>\n",
       "      <td>19.69</td>\n",
       "      <td>97.94</td>\n",
       "      <td>No</td>\n",
       "      <td>160</td>\n",
       "    </tr>\n",
       "    <tr>\n",
       "      <th>3</th>\n",
       "      <td>Exchange Bank</td>\n",
       "      <td>2008Q3</td>\n",
       "      <td>14.13</td>\n",
       "      <td>18.74</td>\n",
       "      <td>34.038758</td>\n",
       "      <td>0.0</td>\n",
       "      <td>-0.02</td>\n",
       "      <td>34.99</td>\n",
       "      <td>3.80</td>\n",
       "      <td>0.147452</td>\n",
       "      <td>19.83</td>\n",
       "      <td>98.84</td>\n",
       "      <td>No</td>\n",
       "      <td>160</td>\n",
       "    </tr>\n",
       "    <tr>\n",
       "      <th>4</th>\n",
       "      <td>Exchange Bank</td>\n",
       "      <td>2008Q4</td>\n",
       "      <td>14.21</td>\n",
       "      <td>21.82</td>\n",
       "      <td>34.059328</td>\n",
       "      <td>0.0</td>\n",
       "      <td>1.21</td>\n",
       "      <td>37.14</td>\n",
       "      <td>3.86</td>\n",
       "      <td>0.057306</td>\n",
       "      <td>15.29</td>\n",
       "      <td>99.84</td>\n",
       "      <td>No</td>\n",
       "      <td>160</td>\n",
       "    </tr>\n",
       "  </tbody>\n",
       "</table>\n",
       "</div>"
      ],
      "text/plain": [
       "       Bank Name Quarter  Tier One  Texas       Size  Brokered Deposits  \\\n",
       "0  Exchange Bank  2007Q4     14.90  19.36  32.852108                0.0   \n",
       "1  Exchange Bank  2008Q1     14.30  20.86  33.542390                0.0   \n",
       "2  Exchange Bank  2008Q2     14.15  20.89  34.140007                0.0   \n",
       "3  Exchange Bank  2008Q3     14.13  18.74  34.038758                0.0   \n",
       "4  Exchange Bank  2008Q4     14.21  21.82  34.059328                0.0   \n",
       "\n",
       "   Net Chargeoffs  Constr and Land Dev Loans  Change in Portfolio Mix  \\\n",
       "0            0.03                      23.13                     3.38   \n",
       "1            0.00                      32.96                     4.96   \n",
       "2            0.31                      33.71                     1.53   \n",
       "3           -0.02                      34.99                     3.80   \n",
       "4            1.21                      37.14                     3.86   \n",
       "\n",
       "   NP CRE to Assets  Volatile Liabilities to Assets  Securities  \\\n",
       "0          0.190681                           20.16       99.07   \n",
       "1          0.000000                           21.23       99.45   \n",
       "2          0.022408                           19.69       97.94   \n",
       "3          0.147452                           19.83       98.84   \n",
       "4          0.057306                           15.29       99.84   \n",
       "\n",
       "  Failed during 2010Q2  Cert Number  \n",
       "0                   No          160  \n",
       "1                   No          160  \n",
       "2                   No          160  \n",
       "3                   No          160  \n",
       "4                   No          160  "
      ]
     },
     "execution_count": 1,
     "metadata": {},
     "output_type": "execute_result"
    }
   ],
   "source": [
    "import pandas as pd\n",
    "import matplotlib.pyplot as plt\n",
    "\n",
    "bank_failure_data = pd.read_excel('Bank failure data.xlsx')\n",
    "bank_failure_data.head()"
   ]
  },
  {
   "cell_type": "code",
   "execution_count": 2,
   "metadata": {},
   "outputs": [
    {
     "data": {
      "text/plain": [
       "Index(['Texas', 'Brokered Deposits', 'Net Chargeoffs'], dtype='object')"
      ]
     },
     "execution_count": 2,
     "metadata": {},
     "output_type": "execute_result"
    }
   ],
   "source": [
    "null_columns = bank_failure_data.columns[bank_failure_data.isnull().any()]\n",
    "null_columns\n"
   ]
  },
  {
   "cell_type": "code",
   "execution_count": 3,
   "metadata": {},
   "outputs": [],
   "source": [
    "bank_failure_data['Texas'] = bank_failure_data['Texas'].interpolate(method='linear')\n",
    "bank_failure_data['Brokered Deposits'] = bank_failure_data['Brokered Deposits'].interpolate(method='linear')\n",
    "bank_failure_data['Net Chargeoffs'] = bank_failure_data['Net Chargeoffs'].interpolate(method='linear')\n",
    "#filling the null columns with linear interpolation\n"
   ]
  },
  {
   "cell_type": "markdown",
   "metadata": {},
   "source": [
    "# What was the biggest bank at the end of 2009? "
   ]
  },
  {
   "cell_type": "code",
   "execution_count": 4,
   "metadata": {},
   "outputs": [
    {
     "data": {
      "text/html": [
       "<div>\n",
       "<style scoped>\n",
       "    .dataframe tbody tr th:only-of-type {\n",
       "        vertical-align: middle;\n",
       "    }\n",
       "\n",
       "    .dataframe tbody tr th {\n",
       "        vertical-align: top;\n",
       "    }\n",
       "\n",
       "    .dataframe thead th {\n",
       "        text-align: right;\n",
       "    }\n",
       "</style>\n",
       "<table border=\"1\" class=\"dataframe\">\n",
       "  <thead>\n",
       "    <tr style=\"text-align: right;\">\n",
       "      <th></th>\n",
       "      <th>Bank Name</th>\n",
       "      <th>Quarter</th>\n",
       "      <th>Tier One</th>\n",
       "      <th>Texas</th>\n",
       "      <th>Size</th>\n",
       "      <th>Brokered Deposits</th>\n",
       "      <th>Net Chargeoffs</th>\n",
       "      <th>Constr and Land Dev Loans</th>\n",
       "      <th>Change in Portfolio Mix</th>\n",
       "      <th>NP CRE to Assets</th>\n",
       "      <th>Volatile Liabilities to Assets</th>\n",
       "      <th>Securities</th>\n",
       "      <th>Failed during 2010Q2</th>\n",
       "      <th>Cert Number</th>\n",
       "    </tr>\n",
       "  </thead>\n",
       "  <tbody>\n",
       "    <tr>\n",
       "      <th>2618</th>\n",
       "      <td>Citibank (South Dakota), N.A.</td>\n",
       "      <td>2009Q4</td>\n",
       "      <td>12.78</td>\n",
       "      <td>0.15</td>\n",
       "      <td>99.777234</td>\n",
       "      <td>95.78</td>\n",
       "      <td>5.66</td>\n",
       "      <td>0.0</td>\n",
       "      <td>25.28</td>\n",
       "      <td>0.0</td>\n",
       "      <td>18.37</td>\n",
       "      <td>107.54</td>\n",
       "      <td>No</td>\n",
       "      <td>23360</td>\n",
       "    </tr>\n",
       "  </tbody>\n",
       "</table>\n",
       "</div>"
      ],
      "text/plain": [
       "                          Bank Name Quarter  Tier One  Texas       Size  \\\n",
       "2618  Citibank (South Dakota), N.A.  2009Q4     12.78   0.15  99.777234   \n",
       "\n",
       "      Brokered Deposits  Net Chargeoffs  Constr and Land Dev Loans  \\\n",
       "2618              95.78            5.66                        0.0   \n",
       "\n",
       "      Change in Portfolio Mix  NP CRE to Assets  \\\n",
       "2618                    25.28               0.0   \n",
       "\n",
       "      Volatile Liabilities to Assets  Securities Failed during 2010Q2  \\\n",
       "2618                           18.37      107.54                   No   \n",
       "\n",
       "      Cert Number  \n",
       "2618        23360  "
      ]
     },
     "execution_count": 4,
     "metadata": {},
     "output_type": "execute_result"
    }
   ],
   "source": [
    "bank_failure_data[bank_failure_data.index == bank_failure_data[bank_failure_data['Quarter'] == '2009Q4']['Size'].idxmax()]\n"
   ]
  },
  {
   "cell_type": "markdown",
   "metadata": {},
   "source": [
    "# What trends do you observe in net chargeoffs over time? "
   ]
  },
  {
   "cell_type": "code",
   "execution_count": 5,
   "metadata": {},
   "outputs": [
    {
     "data": {
      "text/plain": [
       "<matplotlib.collections.PathCollection at 0x1ca5621b780>"
      ]
     },
     "execution_count": 5,
     "metadata": {},
     "output_type": "execute_result"
    },
    {
     "data": {
      "image/png": "[encoded data removed]",
      "text/plain": [
       "<Figure size 432x288 with 1 Axes>"
      ]
     },
     "metadata": {
      "needs_background": "light"
     },
     "output_type": "display_data"
    }
   ],
   "source": [
    "y = bank_failure_data['Net Chargeoffs'].groupby([bank_failure_data['Quarter']])\n",
    "\n",
    "x = pd.DataFrame({ '' : range(1, len(y) + 1 ,1)})\n",
    "plt.xlabel(\"Number of quarters from 2007 end -->\")\n",
    "plt.ylabel(\"Median Net ChargeOffs -->\")\n",
    "plt.scatter(x,y.median())\n"
   ]
  },
  {
   "cell_type": "code",
   "execution_count": 6,
   "metadata": {},
   "outputs": [
    {
     "data": {
      "text/plain": [
       "<matplotlib.collections.PathCollection at 0x1ca565405c0>"
      ]
     },
     "execution_count": 6,
     "metadata": {},
     "output_type": "execute_result"
    },
    {
     "data": {
      "image/png": "[encoded data removed]",
      "text/plain": [
       "<Figure size 432x288 with 1 Axes>"
      ]
     },
     "metadata": {
      "needs_background": "light"
     },
     "output_type": "display_data"
    }
   ],
   "source": [
    "x = pd.DataFrame({ '' : range(1, len(y) + 1 ,1)})\n",
    "plt.xlabel(\"Number of quarters from 2007 end -->\")\n",
    "plt.ylabel(\"Mean Net ChargeOffs -->\")\n",
    "plt.scatter(x,y.mean())\n"
   ]
  },
  {
   "cell_type": "code",
   "execution_count": null,
   "metadata": {},
   "outputs": [],
   "source": [
    "As shown above in the scatter plots of Mean and median, the net charge offs versus the number of quarters from 2007 \n",
    "end generally increase over time."
   ]
  },
  {
   "cell_type": "markdown",
   "metadata": {},
   "source": [
    "# Is there a correlation between level of profitability of a bank’s investments in securities (here measured by fair value of investments over cost basis) and bank failure? "
   ]
  },
  {
   "cell_type": "code",
   "execution_count": 7,
   "metadata": {},
   "outputs": [
    {
     "data": {
      "image/png": "[encoded data removed]",
      "text/plain": [
       "<Figure size 432x288 with 1 Axes>"
      ]
     },
     "metadata": {
      "needs_background": "light"
     },
     "output_type": "display_data"
    }
   ],
   "source": [
    "import numpy as np\n",
    "bank_failure_data['Failed during 2010Q2'].replace(('Yes', 'No'), (1, 0), inplace=True)\n",
    "\n",
    "failed_bank_rows = bank_failure_data.loc[bank_failure_data['Failed during 2010Q2'] == 0]\n",
    "passed_bank_rows = bank_failure_data.loc[bank_failure_data['Failed during 2010Q2'] == 1]\n",
    "\n",
    "x1 = np.sort(failed_bank_rows['Securities'])\n",
    "x2 = np.sort(passed_bank_rows['Securities'])\n",
    "\n",
    "y1 = np.arange(1,len(x1)+1)/len(x1)\n",
    "y2 = np.arange(1,len(x2)+1)/len(x2)\n",
    "\n",
    "plot1 = plt.plot(x1,y1,marker = '.' , linestyle ='none')\n",
    "plot2 = plt.plot(x2,y2,marker = '.' , linestyle ='none')\n"
   ]
  },
  {
   "cell_type": "code",
   "execution_count": null,
   "metadata": {},
   "outputs": [],
   "source": [
    "We can see from the above ecdf plot that the banks that have failed have a lower security and their graph is more towards\n",
    "left as compared to the banks that have not failed."
   ]
  },
  {
   "cell_type": "code",
   "execution_count": 8,
   "metadata": {},
   "outputs": [
    {
     "name": "stdout",
     "output_type": "stream",
     "text": [
      "Correlation value between Securities and Bank failure is -0.1542227378017763\n"
     ]
    }
   ],
   "source": [
    "\n",
    "print('Correlation value between Securities and Bank failure is ' + str(bank_failure_data['Securities'].corr(bank_failure_data['Failed during 2010Q2'])))"
   ]
  },
  {
   "cell_type": "markdown",
   "metadata": {},
   "source": [
    "# What are the top two predictors of bank failure?"
   ]
  },
  {
   "cell_type": "code",
   "execution_count": 9,
   "metadata": {},
   "outputs": [],
   "source": [
    "from sklearn.feature_selection import SelectKBest,f_classif\n",
    "\n",
    "predictors = []\n",
    "for i in bank_failure_data.columns:\n",
    "    if i not in [\"Bank Name\",\"Quarter\",\"Failed during 2010Q2\",\"Cert Number\"]:\n",
    "        predictors.append(i)\n",
    "\n",
    "X_unscaled = pd.DataFrame(bank_failure_data, columns=predictors)\n",
    "\n",
    "########## normalizing features before finding best 2 predictors #############\n",
    "from sklearn import preprocessing\n",
    "min_max_scaler = preprocessing.MinMaxScaler()\n",
    "x_scaled = min_max_scaler.fit_transform(X_unscaled)\n",
    "X = pd.DataFrame(x_scaled)\n"
   ]
  },
  {
   "cell_type": "code",
   "execution_count": 11,
   "metadata": {},
   "outputs": [
    {
     "name": "stdout",
     "output_type": "stream",
     "text": [
      "Top 2 predictors are : \n",
      "Texas\n",
      "Constr and Land Dev Loans\n"
     ]
    }
   ],
   "source": [
    "selector = SelectKBest(f_classif, k=2)\n",
    "selector.fit(X,bank_failure_data['Failed during 2010Q2'])\n",
    "\n",
    "X_new = selector.transform(X)\n",
    "\n",
    "X.columns[selector.get_support(indices=True)]\n",
    "\n",
    "vector_names = list(X.columns[selector.get_support(indices=True)])\n",
    "print(\"Top 2 predictors are : \")\n",
    "for i in vector_names:\n",
    "    print(X_unscaled.columns[i])\n"
   ]
  },
  {
   "cell_type": "markdown",
   "metadata": {},
   "source": [
    "# Which banks are most likely to fail in the near future (and why)? "
   ]
  },
  {
   "cell_type": "code",
   "execution_count": 12,
   "metadata": {},
   "outputs": [
    {
     "name": "stderr",
     "output_type": "stream",
     "text": [
      "C:\\Users\\Deepak Chawla\\Anaconda3\\lib\\site-packages\\sklearn\\cross_validation.py:41: DeprecationWarning: This module was deprecated in version 0.18 in favor of the model_selection module into which all the refactored classes and functions are moved. Also note that the interface of the new CV iterators are different from that of this module. This module will be removed in 0.20.\n",
      "  \"This module will be removed in 0.20.\", DeprecationWarning)\n"
     ]
    }
   ],
   "source": [
    "from sklearn.linear_model import LogisticRegression\n",
    "from sklearn.cross_validation import train_test_split\n",
    "from sklearn import preprocessing\n",
    "from sklearn import metrics, cross_validation\n",
    "\n"
   ]
  },
  {
   "cell_type": "code",
   "execution_count": 206,
   "metadata": {},
   "outputs": [
    {
     "name": "stdout",
     "output_type": "stream",
     "text": [
      "Acuracy of the model : \n",
      "0.9002463054187192\n",
      "\n",
      "Confusion matrix : \n",
      "[[714   7]\n",
      " [ 74  17]]\n"
     ]
    },
    {
     "data": {
      "text/html": [
       "<div>\n",
       "<style scoped>\n",
       "    .dataframe tbody tr th:only-of-type {\n",
       "        vertical-align: middle;\n",
       "    }\n",
       "\n",
       "    .dataframe tbody tr th {\n",
       "        vertical-align: top;\n",
       "    }\n",
       "\n",
       "    .dataframe thead th {\n",
       "        text-align: right;\n",
       "    }\n",
       "</style>\n",
       "<table border=\"1\" class=\"dataframe\">\n",
       "  <thead>\n",
       "    <tr style=\"text-align: right;\">\n",
       "      <th></th>\n",
       "      <th>Bank Name</th>\n",
       "      <th>Quarter</th>\n",
       "      <th>Tier One</th>\n",
       "      <th>Texas</th>\n",
       "      <th>Size</th>\n",
       "      <th>Brokered Deposits</th>\n",
       "      <th>Net Chargeoffs</th>\n",
       "      <th>Constr and Land Dev Loans</th>\n",
       "      <th>Change in Portfolio Mix</th>\n",
       "      <th>NP CRE to Assets</th>\n",
       "      <th>Volatile Liabilities to Assets</th>\n",
       "      <th>Securities</th>\n",
       "      <th>Failed during 2010Q2</th>\n",
       "      <th>Cert Number</th>\n",
       "    </tr>\n",
       "  </thead>\n",
       "  <tbody>\n",
       "    <tr>\n",
       "      <th>3561</th>\n",
       "      <td>FlatIrons Bank</td>\n",
       "      <td>2008Q1</td>\n",
       "      <td>25.71</td>\n",
       "      <td>16.32</td>\n",
       "      <td>17.298686</td>\n",
       "      <td>0.00</td>\n",
       "      <td>0.00</td>\n",
       "      <td>33.18</td>\n",
       "      <td>6.71</td>\n",
       "      <td>0.000000</td>\n",
       "      <td>18.12</td>\n",
       "      <td>101.11</td>\n",
       "      <td>0</td>\n",
       "      <td>57280</td>\n",
       "    </tr>\n",
       "    <tr>\n",
       "      <th>3358</th>\n",
       "      <td>Red River Bank</td>\n",
       "      <td>2009Q4</td>\n",
       "      <td>11.80</td>\n",
       "      <td>2.90</td>\n",
       "      <td>47.521313</td>\n",
       "      <td>0.00</td>\n",
       "      <td>0.04</td>\n",
       "      <td>6.94</td>\n",
       "      <td>3.24</td>\n",
       "      <td>0.167234</td>\n",
       "      <td>25.88</td>\n",
       "      <td>101.07</td>\n",
       "      <td>0</td>\n",
       "      <td>34980</td>\n",
       "    </tr>\n",
       "    <tr>\n",
       "      <th>3416</th>\n",
       "      <td>Satilla Community Bank</td>\n",
       "      <td>2009Q2</td>\n",
       "      <td>9.49</td>\n",
       "      <td>64.85</td>\n",
       "      <td>31.659556</td>\n",
       "      <td>37.55</td>\n",
       "      <td>2.46</td>\n",
       "      <td>13.05</td>\n",
       "      <td>3.48</td>\n",
       "      <td>2.401118</td>\n",
       "      <td>12.62</td>\n",
       "      <td>100.22</td>\n",
       "      <td>1</td>\n",
       "      <td>35114</td>\n",
       "    </tr>\n",
       "  </tbody>\n",
       "</table>\n",
       "</div>"
      ],
      "text/plain": [
       "                   Bank Name Quarter  Tier One  Texas       Size  \\\n",
       "3561          FlatIrons Bank  2008Q1     25.71  16.32  17.298686   \n",
       "3358          Red River Bank  2009Q4     11.80   2.90  47.521313   \n",
       "3416  Satilla Community Bank  2009Q2      9.49  64.85  31.659556   \n",
       "\n",
       "      Brokered Deposits  Net Chargeoffs  Constr and Land Dev Loans  \\\n",
       "3561               0.00            0.00                      33.18   \n",
       "3358               0.00            0.04                       6.94   \n",
       "3416              37.55            2.46                      13.05   \n",
       "\n",
       "      Change in Portfolio Mix  NP CRE to Assets  \\\n",
       "3561                     6.71          0.000000   \n",
       "3358                     3.24          0.167234   \n",
       "3416                     3.48          2.401118   \n",
       "\n",
       "      Volatile Liabilities to Assets  Securities  Failed during 2010Q2  \\\n",
       "3561                           18.12      101.11                     0   \n",
       "3358                           25.88      101.07                     0   \n",
       "3416                           12.62      100.22                     1   \n",
       "\n",
       "      Cert Number  \n",
       "3561        57280  \n",
       "3358        34980  \n",
       "3416        35114  "
      ]
     },
     "execution_count": 206,
     "metadata": {},
     "output_type": "execute_result"
    }
   ],
   "source": [
    "from sklearn import metrics, cross_validation\n",
    "\n",
    "logreg=LogisticRegression()\n",
    "\n",
    "bank_failure_rows_2010 = bank_failure_data.loc[bank_failure_data['Quarter'] == '2010Q1']\n",
    "\n",
    "X_train, X_test, y_train, y_test = train_test_split(X, bank_failure_data['Failed during 2010Q2'], test_size=0.2)\n",
    "\n",
    "model = logreg.fit(X_train, y_train)\n",
    "\n",
    "predicted = cross_validation.cross_val_predict(model,X_test,y_test, cv=10) \n",
    "print('Acuracy of the model : ')\n",
    "print(metrics.accuracy_score(y_test, predicted))\n",
    "\n",
    "from sklearn.metrics import confusion_matrix\n",
    "confusion_matrix = confusion_matrix(y_test,predicted)\n",
    "print('\\nConfusion matrix : ')\n",
    "print(confusion_matrix)\n",
    "\n",
    "probabilities = model.predict_proba(X_test)\n",
    "failed_bank_indices = bank_failure_data.loc[bank_failure_data['Failed during 2010Q2'] == 1].index\n",
    "\n",
    "top_picks_indexes = -probabilities[:,1].argsort()[:3]\n",
    "Y_top_picks = np.zeros(len(X_test))\n",
    "Y_top_picks[top_picks_indexes] = 1\n",
    "\n",
    "# print(Y_top_picks)\n",
    "\n",
    "# count = 5 #printing top 5 banks that are likely to fail\n",
    "# for i in top_picks_indexes:\n",
    "#      if i not in failed_bank_indices:\n",
    "#             print(i)\n",
    "# #          print(bank_failure_data.loc[i]['Bank Name'])\n",
    "    \n",
    "\n",
    "bank_failure_data.iloc[top_picks_indexes]"
   ]
  },
  {
   "cell_type": "code",
   "execution_count": null,
   "metadata": {},
   "outputs": [],
   "source": [
    "I have built a logistic regression model using the entire dataset and split the entire data set into training and test.\n",
    "Then i have predicted using 10 fold cross validation to get my final model. I have then found out the top 3 banks that \n",
    "have not yet failed but will fail as per my model. Out of the three I have predicted, Satilla bank already did fail and \n",
    "other two banks that I have predicted have less texas and Constr and Land Dev Loans. The model I have is biased\n",
    "simply because of the fact that number of banks that have failed and lie in the one type of class are very less. And so\n",
    "the model will be skewed towards the banks not failing."
   ]
  },
  {
   "cell_type": "code",
   "execution_count": null,
   "metadata": {},
   "outputs": [],
   "source": []
  },
  {
   "cell_type": "code",
   "execution_count": null,
   "metadata": {},
   "outputs": [],
   "source": [
    "\n",
    "    "
   ]
  },
  {
   "cell_type": "code",
   "execution_count": null,
   "metadata": {},
   "outputs": [],
   "source": []
  }
 ],
 "metadata": {
  "kernelspec": {
   "display_name": "Python 3",
   "language": "python",
   "name": "python3"
  },
  "language_info": {
   "codemirror_mode": {
    "name": "ipython",
    "version": 3
   },
   "file_extension": ".py",
   "mimetype": "text/x-python",
   "name": "python",
   "nbconvert_exporter": "python",
   "pygments_lexer": "ipython3",
   "version": "3.7.0"
  }
 },
 "nbformat": 4,
 "nbformat_minor": 2
}
